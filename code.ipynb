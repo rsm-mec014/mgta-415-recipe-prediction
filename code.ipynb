{
 "cells": [
  {
   "cell_type": "code",
   "execution_count": null,
   "metadata": {},
   "outputs": [],
   "source": [
    "import pickle\n",
    "import pandas as pd\n",
    "import nltk\n",
    "nltk.download('stopwords')\n",
    "nltk.download('punkt')\n",
    "import itertools\n",
    "from collections import Counter\n",
    "import numpy as np\n",
    "from nltk import word_tokenize\n",
    "from nltk.corpus import stopwords\n",
    "from gensim.models import word2vec\n",
    "from sklearn.linear_model import LogisticRegression\n",
    "import os\n",
    "import string"
   ]
  },
  {
   "cell_type": "code",
   "execution_count": null,
   "metadata": {},
   "outputs": [],
   "source": [
    "pd.set_option('display.max_columns', None)"
   ]
  },
  {
   "cell_type": "code",
   "execution_count": null,
   "metadata": {},
   "outputs": [],
   "source": [
    "# A function used to build a vocabulary based on descending word frequencies\n",
    "def build_vocab(sentences):\n",
    "    # Build vocabulary\n",
    "    word_counts = Counter(itertools.chain(*sentences))\n",
    "    # Mapping from index to word\n",
    "    vocabulary_inv = [x[0] for x in word_counts.most_common()]\n",
    "    # Mapping from word to index\n",
    "    vocabulary = {x: i for i, x in enumerate(vocabulary_inv)}\n",
    "    return word_counts, vocabulary, vocabulary_inv"
   ]
  },
  {
   "cell_type": "code",
   "execution_count": null,
   "metadata": {},
   "outputs": [],
   "source": [
    "# A function used to learn word embeddings through Word2vec module\n",
    "def get_embeddings(inp_data, vocabulary_inv, size_features=100,\n",
    "                   mode='skipgram',\n",
    "                   min_word_count=2,\n",
    "                   context=5):\n",
    "    model_name = \"embedding\"\n",
    "    model_name = os.path.join(model_name)\n",
    "    num_workers = 15  # Number of threads to run in parallel\n",
    "    downsampling = 1e-3  # Downsample setting for frequent words\n",
    "    print('Training Word2Vec model...')\n",
    "    # use inp_data and vocabulary_inv to reconstruct sentences\n",
    "    sentences = [[vocabulary_inv[w] for w in s] for s in inp_data]\n",
    "    if mode == 'skipgram':\n",
    "        sg = 1\n",
    "        print('Model: skip-gram')\n",
    "    elif mode == 'cbow':\n",
    "        sg = 0\n",
    "        print('Model: CBOW')\n",
    "    embedding_model = word2vec.Word2Vec(sentences, workers=num_workers,\n",
    "                                        sg=sg,\n",
    "                                        vector_size=size_features,\n",
    "                                        min_count=min_word_count,\n",
    "                                        window=context,\n",
    "                                        sample=downsampling)\n",
    "    print(\"Saving Word2Vec model {}\".format(model_name))\n",
    "    embedding_weights = np.zeros((len(vocabulary_inv), size_features))\n",
    "    for i in range(len(vocabulary_inv)):\n",
    "        word = vocabulary_inv[i]\n",
    "        if word in embedding_model.wv:\n",
    "            embedding_weights[i] = embedding_model.wv[word]\n",
    "        else:\n",
    "            embedding_weights[i] = np.random.uniform(-0.25, 0.25,\n",
    "                                                     embedding_model.vector_size)\n",
    "    return embedding_weights"
   ]
  },
  {
   "cell_type": "code",
   "execution_count": null,
   "metadata": {},
   "outputs": [],
   "source": [
    "from nltk.stem import PorterStemmer \n",
    "ps = PorterStemmer() \n",
    "def preprocess_df(df, stemming=False):\n",
    "    # get English stopwords\n",
    "    stop_words = set(stopwords.words('english'))\n",
    "    stop_words.add('would')\n",
    "    stop_words.add('The')\n",
    "    # prepare translation table to translate punctuation to space\n",
    "    translator = str.maketrans(string.punctuation, ' ' * len(string.punctuation))\n",
    "    preprocessed_sentences = []\n",
    "    for i, row in df.iterrows():\n",
    "        sent = row[\"text\"]\n",
    "        sent_nopuncts = sent.translate(translator)\n",
    "        words_list = sent_nopuncts.strip().split()\n",
    "        if stemming == True:\n",
    "            words_list = [ps.stem(word) for word in words_list]\n",
    "        filtered_words = [word for word in words_list if word not in stop_words and len(word) != 1] # also skip space from above translation\n",
    "        preprocessed_sentences.append(\" \".join(filtered_words))\n",
    "    df[\"text\"] = preprocessed_sentences\n",
    "    return df"
   ]
  },
  {
   "cell_type": "code",
   "execution_count": 26,
   "metadata": {},
   "outputs": [],
   "source": [
    "train = pd.read_csv('train.csv')\n",
    "test = pd.read_csv('test.csv')\n",
    "nan_counts = train.isna().sum()\n",
    "cols_drop = nan_counts[nan_counts > 10000].index.tolist()"
   ]
  },
  {
   "cell_type": "code",
   "execution_count": 27,
   "metadata": {},
   "outputs": [],
   "source": [
    "import numpy as np\n",
    "import re\n",
    "import ast\n",
    "\n",
    "def parse_dict_string(x):\n",
    "    if pd.isna(x):\n",
    "        return {}\n",
    "    else:\n",
    "        # Convert string to dictionary using ast.literal_eval()\n",
    "        return ast.literal_eval(x[2:-1])\n",
    "\n",
    "def expand_ambience_features(x, key):\n",
    "    if pd.isna(x):\n",
    "        return np.nan\n",
    "    else:\n",
    "        return 1 if key in x and x[key] else 0\n",
    "    \n",
    "\n",
    "def encode_dict(df, col):\n",
    "    df[col] = df[col].apply(parse_dict_string)\n",
    "\n",
    "    # Extract keys from dictionaries\n",
    "    keys = set()\n",
    "    for d in df[col]:\n",
    "        if not pd.isna(d):\n",
    "            keys.update(d.keys())\n",
    "\n",
    "    # Expand dictionary features into binary features\n",
    "    for key in keys:\n",
    "        df[key] = df[col].apply(lambda x: expand_ambience_features(x, key))\n",
    "    df.drop(columns=[col], inplace=True)\n",
    "    return df"
   ]
  },
  {
   "cell_type": "code",
   "execution_count": 28,
   "metadata": {},
   "outputs": [],
   "source": [
    "dict_cols = ['attributes.Ambience', 'attributes.BusinessParking', 'attributes.GoodForMeal']\n",
    "\n",
    "# Attributes with regex\n",
    "attr = ['hours.Tuesday', 'postal_code', 'attributes.OutdoorSeating', 'hours.Saturday', 'name', 'attributes.BusinessAcceptsCreditCards',\n",
    "        'attributes.RestaurantsReservations', 'hours.Friday', 'attributes.RestaurantsPriceRange2', 'attributes.WiFi', 'attributes.NoiseLevel',\n",
    "        'state', 'attributes.Alcohol', 'attributes.HasTV', 'hours.Wednesday', 'hours.Sunday', 'attributes.RestaurantsGoodForGroups',\n",
    "        'attributes.Caters', 'attributes.BikeParking', 'hours.Monday', 'city', 'attributes.RestaurantsTakeOut', 'hours.Thursday', 'attributes.RestaurantsAttire',\n",
    "        'attributes.RestaurantsDelivery', 'attributes.GoodForKids']"
   ]
  },
  {
   "cell_type": "code",
   "execution_count": 29,
   "metadata": {},
   "outputs": [],
   "source": [
    "def preprocess(df):\n",
    "    df.drop(columns = cols_drop, inplace=True)\n",
    "    for col in dict_cols:\n",
    "        df = encode_dict(df, col)\n",
    "    df.drop(columns=['business_id'], inplace=True)\n",
    "\n",
    "    col_names = df.columns\n",
    "    new_column_names = {column: column.replace('attributes.', '') for column in col_names}\n",
    "    df = df.rename(columns=new_column_names)\n",
    "\n",
    "    d = {'False': 0, 'True': 1}\n",
    "    pattern = r'\\b\\d+\\b(?:\\s+\\b\\d+\\b)*\\s*'\n",
    "    #clean b'\n",
    "    for col in df:\n",
    "        if col != 'text' and col != 'label' and col != 'name' and col != 'latitude' and col != 'longitude' and col != 'postal_code' and col != 'is_open' and col != 'review':\n",
    "            try:\n",
    "                df[col] = df[col].str.extract(r\"b'(.*?)'\")\n",
    "                df[col] = df[col].map(d)\n",
    "            except:\n",
    "                pass\n",
    "        if col == 'name' or col == 'postal_code':\n",
    "            df[col] = df[col].str.extract(r\"b'(.*?)'\")\n",
    "        ## 0 if Canada postal code 1 if US\n",
    "        if col == 'postal_code':\n",
    "            df[col] = df[col].str.match(pattern)\n",
    "    df = df.fillna(0)\n",
    "    return df\n",
    "    \n",
    "train = preprocess(train)\n",
    "test = preprocess(test)"
   ]
  },
  {
   "cell_type": "markdown",
   "metadata": {},
   "source": [
    "#### Train-test split"
   ]
  },
  {
   "cell_type": "code",
   "execution_count": 30,
   "metadata": {},
   "outputs": [],
   "source": [
    "from sklearn.model_selection import train_test_split\n",
    "from math import log\n",
    "from gensim.models import TfidfModel\n",
    "from sklearn.metrics import f1_score\n",
    "from sklearn.ensemble import RandomForestClassifier\n",
    "from sklearn.metrics import roc_auc_score\n",
    "\n",
    "y = train['label']\n",
    "X = train.drop(columns=['label', 'name', 'RestaurantsPriceRange2'])\n",
    "X[\"text\"] = X[\"review\"]\n",
    "X = preprocess_df(X, stemming=False)\n",
    "X.drop(columns=['review'], inplace=True)"
   ]
  },
  {
   "cell_type": "code",
   "execution_count": 31,
   "metadata": {},
   "outputs": [],
   "source": [
    "from sklearn.preprocessing import LabelEncoder\n",
    "\n",
    "# Encode the target variable\n",
    "label_encoder = LabelEncoder()\n",
    "y_encoded = label_encoder.fit_transform(y)\n",
    "X_train, X_val, y_train, y_val = train_test_split(X, y_encoded, test_size=0.2, random_state=42, shuffle=True)\n",
    "X_train_xgb, X_val_xgb = X_train.drop(columns=['text']), X_val.drop(columns=['text'])"
   ]
  },
  {
   "cell_type": "code",
   "execution_count": 36,
   "metadata": {},
   "outputs": [
    {
     "name": "stdout",
     "output_type": "stream",
     "text": [
      "Accuracy without selected features: 0.3921643210346139\n"
     ]
    },
    {
     "data": {
      "text/plain": [
       "32"
      ]
     },
     "execution_count": 36,
     "metadata": {},
     "output_type": "execute_result"
    }
   ],
   "source": [
    "import pandas as pd\n",
    "import numpy as np\n",
    "import xgboost as xgb\n",
    "from sklearn.model_selection import train_test_split\n",
    "from sklearn.metrics import accuracy_score\n",
    "\n",
    "# Train an XGBoost classifier\n",
    "xgb_classifier = xgb.XGBClassifier()\n",
    "xgb_classifier.fit(X_train_xgb, y_train)\n",
    "y_pred = xgb_classifier.predict(X_val_xgb)\n",
    "accuracy = accuracy_score(y_val, y_pred)\n",
    "print(\"Accuracy without selected features:\", accuracy)\n",
    "\n",
    "# Get feature importances\n",
    "feature_importances = xgb_classifier.feature_importances_\n",
    "\n",
    "# Create a DataFrame with feature importances\n",
    "importance_df = pd.DataFrame({'Feature': X_train_xgb.columns, 'Importance': feature_importances})\n",
    "\n",
    "# Sort features by importance\n",
    "importance_df = importance_df.sort_values(by='Importance', ascending=False)\n",
    "\n",
    "n_feature = {}\n",
    "\n",
    "for num in range(20,50,2):\n",
    "    top_features = importance_df.head(num)['Feature'].tolist()\n",
    "\n",
    "    # Select top features from the original DataFrame\n",
    "    X_train_xgb_selected = X_train_xgb[top_features]\n",
    "    X_test_selected = X_val_xgb[top_features]\n",
    "\n",
    "    # Train XGBoost classifier with selected features\n",
    "    xgb_classifier_selected = xgb.XGBClassifier()\n",
    "    xgb_classifier_selected.fit(X_train_xgb_selected, y_train)\n",
    "\n",
    "    # Evaluate the model\n",
    "    y_pred = xgb_classifier_selected.predict(X_test_selected)\n",
    "    accuracy = accuracy_score(y_val, y_pred)\n",
    "    n_feature[num] = roc_auc_score(y_val, xgb_classifier_selected.predict_proba(X_test_selected), multi_class='ovr')\n",
    "\n",
    "best_num = max(n_feature, key=lambda k: n_feature[k]) \n",
    "best_num"
   ]
  },
  {
   "cell_type": "markdown",
   "metadata": {},
   "source": [
    "Best number of features: 32"
   ]
  },
  {
   "cell_type": "markdown",
   "metadata": {},
   "source": [
    "### NLP Review"
   ]
  },
  {
   "cell_type": "code",
   "execution_count": null,
   "metadata": {},
   "outputs": [],
   "source": [
    "from sklearn.feature_extraction.text import TfidfVectorizer\n",
    "\n",
    "tfidf = TfidfVectorizer(strip_accents=None,\n",
    "                        lowercase=True,\n",
    "                        preprocessor=None,  # applied preprocessor in Data Cleaning\n",
    "                        tokenizer=word_tokenize,\n",
    "                        use_idf=True,\n",
    "                        norm='l2',\n",
    "                        smooth_idf=True,\n",
    "                        stop_words= 'english',\n",
    "                        max_df=0.4,\n",
    "                        sublinear_tf=True)"
   ]
  }
 ],
 "metadata": {
  "kernelspec": {
   "display_name": "base",
   "language": "python",
   "name": "python3"
  },
  "language_info": {
   "codemirror_mode": {
    "name": "ipython",
    "version": 3
   },
   "file_extension": ".py",
   "mimetype": "text/x-python",
   "name": "python",
   "nbconvert_exporter": "python",
   "pygments_lexer": "ipython3",
   "version": "3.11.5"
  }
 },
 "nbformat": 4,
 "nbformat_minor": 2
}
